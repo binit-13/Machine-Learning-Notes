{
  "nbformat": 4,
  "nbformat_minor": 0,
  "metadata": {
    "colab": {
      "provenance": [],
      "authorship_tag": "ABX9TyNnCJfY0pN7BTaC1eRRFOZ1",
      "include_colab_link": true
    },
    "kernelspec": {
      "name": "python3",
      "display_name": "Python 3"
    },
    "language_info": {
      "name": "python"
    }
  },
  "cells": [
    {
      "cell_type": "markdown",
      "metadata": {
        "id": "view-in-github",
        "colab_type": "text"
      },
      "source": [
        "<a href=\"https://colab.research.google.com/github/binit-13/Machine-Learning-Notes/blob/main/Simple_ANN_Structure_from_scratch.ipynb\" target=\"_parent\"><img src=\"https://colab.research.google.com/assets/colab-badge.svg\" alt=\"Open In Colab\"/></a>"
      ]
    },
    {
      "cell_type": "markdown",
      "source": [
        "## Neural Network\n",
        "\n",
        "Part 1:\n",
        "\n",
        "- Neural Network\n",
        "- Gradient Descent\n",
        "- Toy Dataset\n",
        "- SGD, GD, Mini-batch SGD\n",
        "\n",
        "Part 2:\n",
        "\n",
        "- Computing Analytical Gradient with Backpropagation\n",
        "- Toy Dataset\n",
        "- SGD\n",
        "- Making it work with batches\n",
        "\n",
        "Part 3:\n",
        "\n",
        "- Weight initialization\n",
        "- Bias weight matrix\n",
        "- More loss/activation functions\n",
        "\n",
        "\n",
        "Loss_Function (binary_crossentropy):\n",
        "==> $ \\frac{-1}{n }[\\sum_{i=1} y_ilog(\\hat y_i) + (1-y_i)log(1-\\hat y_i) ]$"
      ],
      "metadata": {
        "id": "Sqm_pL6la-B2"
      }
    },
    {
      "cell_type": "code",
      "source": [
        "import numpy as np\n",
        "from sklearn.datasets import make_classification\n",
        "\n",
        "import matplotlib.pyplot as plt"
      ],
      "metadata": {
        "id": "DSWM6Adc8gw5"
      },
      "execution_count": 2,
      "outputs": []
    },
    {
      "cell_type": "code",
      "source": [
        "X,y = make_classification(n_samples=50,\n",
        "                          n_features=2,\n",
        "                          n_informative=1,\n",
        "                          n_redundant=0,\n",
        "                          n_classes=2,\n",
        "                          n_clusters_per_class=1,\n",
        "                          random_state=12)"
      ],
      "metadata": {
        "id": "btJTbtcXg5bE"
      },
      "execution_count": 3,
      "outputs": []
    },
    {
      "cell_type": "code",
      "source": [
        "X.shape"
      ],
      "metadata": {
        "colab": {
          "base_uri": "https://localhost:8080/"
        },
        "id": "0D1FVcAMoaw0",
        "outputId": "92767a0f-7c3f-440c-e5f9-abf79a87d3fd"
      },
      "execution_count": 4,
      "outputs": [
        {
          "output_type": "execute_result",
          "data": {
            "text/plain": [
              "(50, 2)"
            ]
          },
          "metadata": {},
          "execution_count": 4
        }
      ]
    },
    {
      "cell_type": "code",
      "source": [
        "plt.scatter(X[:,0],X[:,1],c=y)"
      ],
      "metadata": {
        "colab": {
          "base_uri": "https://localhost:8080/",
          "height": 447
        },
        "id": "Ri-WNy_ymUi3",
        "outputId": "a2d525db-08b3-4fcb-da30-de4dfef01178"
      },
      "execution_count": 4,
      "outputs": [
        {
          "output_type": "execute_result",
          "data": {
            "text/plain": [
              "<matplotlib.collections.PathCollection at 0x78c2b4c22ef0>"
            ]
          },
          "metadata": {},
          "execution_count": 4
        },
        {
          "output_type": "display_data",
          "data": {
            "text/plain": [
              "<Figure size 640x480 with 1 Axes>"
            ],
            "image/png": "[encoded data removed]"
          },
          "metadata": {}
        }
      ]
    },
    {
      "cell_type": "code",
      "source": [
        "class Neural_Network:\n",
        "\n",
        "  def __init__(self,epochs, lr, layer, X, input_neuron):\n",
        "    self.lr = lr\n",
        "    self.epochs = epochs\n",
        "    self.layer = layer\n",
        "    self.counter = 0\n",
        "    np.random.seed(3)\n",
        "\n",
        "    self.dict_weight = dict()\n",
        "    self.dict_bias = dict()\n",
        "    self.input_dim = X.shape[1]\n",
        "    self.input_neuron = input_neuron\n",
        "\n",
        "    self.dict_weight['layer:0'] = np.random.randn(self.input_dim, self.input_neuron) ## input layer being initialized\n",
        "    self.dict_bias['layer:0'] = np.ones(self.input_neuron)\n",
        "\n",
        "  def activation(self, X, method = ['sigmoid','relu','linear', 'sigmoid_der','relu_der']):\n",
        "    if method == 'sigmoid':\n",
        "      return 1 / (1 + np.exp(-X))\n",
        "\n",
        "    if method == 'relu':\n",
        "      return np.where(X > 0, X, 0)\n",
        "\n",
        "    if method == 'linear':\n",
        "      return X\n",
        "\n",
        "    if method == 'sigmoid_der':\n",
        "      return X * (1-X)\n",
        "\n",
        "    if method == 'relu_der':\n",
        "      return np.where(X > 0,1,0)\n",
        "\n",
        "  def add(self, neuron):\n",
        "\n",
        "    self.counter +=1\n",
        "    if self.counter == 1:\n",
        "      self.dict_weight[f'layer:{self.counter}'] = np.random.randn(neuron,2)\n",
        "      self.dict_bias[f'layer:{self.counter}'] = np.ones((1,neuron))\n",
        "    else:\n",
        "      self.dict_weight[f'layer:{self.counter}'] = np.random.randn(neuron,2)\n",
        "      self.dict_bias[f'layer:{self.counter}'] = np.ones((1,neuron))\n",
        "\n",
        "    return self.dict_weight, self.dict_bias\n",
        "\n",
        "\n",
        "  def forward_network(self,X):\n",
        "\n",
        "    self.dict_output = dict()\n",
        "    if self.counter == 1:\n",
        "      self.dict_output[f'layer:0'] = np.dot(X,self.dict_weight['layer:0'])+self.dict_bias['layer:0']\n",
        "      self.dict_output[f'layer:0'] = self.activation(self.dict_output[f'layer:0'], method='sigmoid')\n",
        "      self.dict_output[f'layer:1'] = np.dot(self.dict_output['layer:0'],self.dict_weight['layer:1'].T)\n",
        "      self.dict_output[f'layer:1'] = self.activation(self.dict_output[f'layer:1'], method='sigmoid')\n",
        "\n",
        "      return self.dict_output['layer:1']\n",
        "    else:\n",
        "      self.dict_output[f'layer:0'] = self.activation(np.dot(X,self.dict_weight['layer:0'])+self.dict_bias['layer:0'],'relu')\n",
        "      self.dict_output[f'layer:1'] = self.activation(np.dot(self.dict_output['layer:0'],self.dict_weight['layer:1'].T),'relu')\n",
        "      self.dict_output[f'layer:2'] = self.activation(np.dot(self.dict_output['layer:1'],self.dict_weight['layer:2'].T),'sigmoid')\n",
        "\n",
        "      return self.dict_output['layer:2'].shape # shape --> (50,1)\n",
        "\n",
        "\n",
        "  def back_propogation(self,X,y):\n",
        "\n",
        "    loss = -y * np.log(self.dict_output['layer:1'].reshape(-1)) - (1 - y) * np.log(1 - self.dict_output['layer:1'].reshape(-1)) ## ()\n",
        "    ## derivative of this w.r.t to weight is:  ---> predicted y - y or -(y-yhat)*Output\n",
        "    ## derivative of loss w.r.t to bias is : ----> -(y-yhat) or yhat-y\n",
        "\n",
        "\n",
        "    delta_output = self.dict_output['layer:1']-y ##(50,1)\n",
        "    delta_weights_output = np.dot(self.dict_output['layer:0'].T, delta_output)\n",
        "    delta_bias_output = np.sum(delta_output, axis=0)\n",
        "\n",
        "    #print(delta_weights_output.shape, delta_bias_output.shape)\n",
        "\n",
        "    # Backpropagation for the hidden layer\n",
        "    ## derivative of loss w.r.t to weight of hidden layer ---> (yhat-y)*weight*output(1-output)*Input\n",
        "    delta_layer0 = self.activation(np.dot(delta_output, self.dict_weight['layer:1']), method='relu_der')\n",
        "    delta_weights_hidden = np.dot(X.T, delta_layer0)\n",
        "    delta_bias_hidden = np.sum(delta_layer0, axis=0)\n",
        "\n",
        "    #print(delta_weights_hidden.shape, delta_bias_hidden.shape)\n",
        "\n",
        "    # Update weights and biases\n",
        "\n",
        "    self.dict_weight['layer:0'] -= self.lr * delta_weights_hidden\n",
        "    self.dict_bias['layer:0'] -= self.lr * delta_bias_hidden\n",
        "\n",
        "    self.dict_weight['layer:1'] -= self.lr * delta_weights_output.T\n",
        "    self.dict_bias['layer:1'] -= self.lr * delta_bias_output\n",
        "\n",
        "    #print(self.dict_weight['layer:1'], loss.shape)\n",
        "\n",
        "    return loss\n",
        "\n",
        "  def compile(self,X,y):\n",
        "    loss = []\n",
        "    for epoch in range(self.epochs):\n",
        "      total_loss = 0\n",
        "      for i in range(len(X)):\n",
        "        x = X[i].reshape(1, -1)\n",
        "        target = y[i].reshape(1, -1)\n",
        "        output = self.forward_network(x)\n",
        "        total_loss = self.back_propogation(x, target)\n",
        "        loss.append(total_loss)\n",
        "      print('Epoch - ',epoch+1,'Loss - ',np.mean(loss))\n",
        "\n",
        "  def predict(self, X):\n",
        "    pred = []\n",
        "    for i in range(len(X)):\n",
        "      x = X[i].reshape(1,-1)\n",
        "      output = self.forward_network(x)\n",
        "      pred.append(output)\n",
        "\n",
        "    return np.array(pred)\n",
        "\n",
        "  def summary(self):\n",
        "    print('0 layer: params', np.prod(self.dict_weight['layer:0'].shape) + np.prod(self.dict_bias['layer:0'].shape))\n",
        "    print('-'*30)\n",
        "    for i in reversed(range(self.counter+1)):\n",
        "      if i == 0:\n",
        "        break\n",
        "      else:\n",
        "        print(f'{i} layer: params:', np.prod(self.dict_weight[f'layer:{i}'].shape) + np.prod(self.dict_bias[f'layer:{i}'].shape))\n",
        "        print('-'*30)\n"
      ],
      "metadata": {
        "id": "_CfYabSq7D5p"
      },
      "execution_count": 322,
      "outputs": []
    },
    {
      "cell_type": "code",
      "source": [
        "model = Neural_Network(epochs=7,lr=0.05,layer=2,X=X, input_neuron=2)"
      ],
      "metadata": {
        "id": "4aLafIE4cAGW"
      },
      "execution_count": 323,
      "outputs": []
    },
    {
      "cell_type": "code",
      "source": [
        "model.add(1)\n",
        "#model.add(1)"
      ],
      "metadata": {
        "colab": {
          "base_uri": "https://localhost:8080/"
        },
        "id": "xCXeCnF6hoX2",
        "outputId": "c441d8e5-766f-4ff2-f41c-5ef33d51d6b5"
      },
      "execution_count": 324,
      "outputs": [
        {
          "output_type": "execute_result",
          "data": {
            "text/plain": [
              "({'layer:0': array([[ 1.78862847,  0.43650985],\n",
              "         [ 0.09649747, -1.8634927 ]]),\n",
              "  'layer:1': array([[-0.2773882 , -0.35475898]])},\n",
              " {'layer:0': array([1., 1.]), 'layer:1': array([[1.]])})"
            ]
          },
          "metadata": {},
          "execution_count": 324
        }
      ]
    },
    {
      "cell_type": "code",
      "source": [
        "model.summary()"
      ],
      "metadata": {
        "colab": {
          "base_uri": "https://localhost:8080/"
        },
        "id": "m5Xcddlqhze1",
        "outputId": "cece7763-2f3e-40bf-a121-b5c575988b83"
      },
      "execution_count": 325,
      "outputs": [
        {
          "output_type": "stream",
          "name": "stdout",
          "text": [
            "0 layer: params 6\n",
            "------------------------------\n",
            "1 layer: params: 3\n",
            "------------------------------\n"
          ]
        }
      ]
    },
    {
      "cell_type": "code",
      "source": [
        "model.compile(X,y)"
      ],
      "metadata": {
        "colab": {
          "base_uri": "https://localhost:8080/"
        },
        "id": "0k4SxnvEME-g",
        "outputId": "4e14947f-60b8-40ff-e71c-b03276e87910"
      },
      "execution_count": 326,
      "outputs": [
        {
          "output_type": "stream",
          "name": "stdout",
          "text": [
            "Epoch -  1 Loss -  0.7235172613433108\n",
            "Epoch -  2 Loss -  0.6809083977388724\n",
            "Epoch -  3 Loss -  0.6447036025252005\n",
            "Epoch -  4 Loss -  0.6171441749787099\n",
            "Epoch -  5 Loss -  0.5965074218853315\n",
            "Epoch -  6 Loss -  0.5807005295315959\n",
            "Epoch -  7 Loss -  0.5683210488119157\n"
          ]
        }
      ]
    },
    {
      "cell_type": "code",
      "source": [
        "model.predict(X)"
      ],
      "metadata": {
        "colab": {
          "base_uri": "https://localhost:8080/"
        },
        "id": "ls-pOFCGO8br",
        "outputId": "adcf8fc8-77f3-4074-c1a3-c89954cd5e4c"
      },
      "execution_count": 327,
      "outputs": [
        {
          "output_type": "execute_result",
          "data": {
            "text/plain": [
              "array([[[0.46997311]],\n",
              "\n",
              "       [[0.69412821]],\n",
              "\n",
              "       [[0.80438227]],\n",
              "\n",
              "       [[0.74480681]],\n",
              "\n",
              "       [[0.71148865]],\n",
              "\n",
              "       [[0.76478896]],\n",
              "\n",
              "       [[0.25962162]],\n",
              "\n",
              "       [[0.69288001]],\n",
              "\n",
              "       [[0.25816649]],\n",
              "\n",
              "       [[0.62189315]],\n",
              "\n",
              "       [[0.49630173]],\n",
              "\n",
              "       [[0.49839775]],\n",
              "\n",
              "       [[0.8159952 ]],\n",
              "\n",
              "       [[0.72454518]],\n",
              "\n",
              "       [[0.32394703]],\n",
              "\n",
              "       [[0.52335105]],\n",
              "\n",
              "       [[0.82353824]],\n",
              "\n",
              "       [[0.74297271]],\n",
              "\n",
              "       [[0.53929537]],\n",
              "\n",
              "       [[0.48368392]],\n",
              "\n",
              "       [[0.68895062]],\n",
              "\n",
              "       [[0.64359041]],\n",
              "\n",
              "       [[0.43883477]],\n",
              "\n",
              "       [[0.51668719]],\n",
              "\n",
              "       [[0.8173119 ]],\n",
              "\n",
              "       [[0.41703231]],\n",
              "\n",
              "       [[0.28447464]],\n",
              "\n",
              "       [[0.75169734]],\n",
              "\n",
              "       [[0.49960968]],\n",
              "\n",
              "       [[0.70852857]],\n",
              "\n",
              "       [[0.27498443]],\n",
              "\n",
              "       [[0.76465112]],\n",
              "\n",
              "       [[0.25761267]],\n",
              "\n",
              "       [[0.48591769]],\n",
              "\n",
              "       [[0.46515295]],\n",
              "\n",
              "       [[0.49986813]],\n",
              "\n",
              "       [[0.49873951]],\n",
              "\n",
              "       [[0.25724356]],\n",
              "\n",
              "       [[0.68788232]],\n",
              "\n",
              "       [[0.50040987]],\n",
              "\n",
              "       [[0.79283502]],\n",
              "\n",
              "       [[0.2595994 ]],\n",
              "\n",
              "       [[0.72870673]],\n",
              "\n",
              "       [[0.43853785]],\n",
              "\n",
              "       [[0.49997111]],\n",
              "\n",
              "       [[0.75919366]],\n",
              "\n",
              "       [[0.54641406]],\n",
              "\n",
              "       [[0.50438841]],\n",
              "\n",
              "       [[0.26014986]],\n",
              "\n",
              "       [[0.25787598]]])"
            ]
          },
          "metadata": {},
          "execution_count": 327
        }
      ]
    },
    {
      "cell_type": "code",
      "source": [
        "y"
      ],
      "metadata": {
        "colab": {
          "base_uri": "https://localhost:8080/"
        },
        "id": "uZcnpbjHch83",
        "outputId": "1c1c0fa1-0ad1-4137-9c3e-3bc7ef8cd3f1"
      },
      "execution_count": 317,
      "outputs": [
        {
          "output_type": "execute_result",
          "data": {
            "text/plain": [
              "array([0, 1, 1, 1, 1, 1, 0, 1, 1, 1, 0, 0, 0, 1, 0, 1, 1, 1, 1, 0, 1, 1,\n",
              "       0, 1, 1, 0, 0, 1, 0, 1, 0, 1, 0, 0, 0, 0, 0, 0, 1, 0, 1, 0, 1, 0,\n",
              "       0, 1, 1, 1, 0, 0])"
            ]
          },
          "metadata": {},
          "execution_count": 317
        }
      ]
    },
    {
      "cell_type": "code",
      "source": [],
      "metadata": {
        "id": "fo4_a5rUc8Xa"
      },
      "execution_count": null,
      "outputs": []
    }
  ]
}