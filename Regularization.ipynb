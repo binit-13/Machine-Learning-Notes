{
  "nbformat": 4,
  "nbformat_minor": 0,
  "metadata": {
    "colab": {
      "provenance": [],
      "authorship_tag": "ABX9TyMgF4Edh7yK2WiGEt1HBeN/",
      "include_colab_link": true
    },
    "kernelspec": {
      "name": "python3",
      "display_name": "Python 3"
    },
    "language_info": {
      "name": "python"
    }
  },
  "cells": [
    {
      "cell_type": "markdown",
      "metadata": {
        "id": "view-in-github",
        "colab_type": "text"
      },
      "source": [
        "<a href=\"https://colab.research.google.com/github/binit-13/Machine-Learning-Notes/blob/main/Regularization.ipynb\" target=\"_parent\"><img src=\"https://colab.research.google.com/assets/colab-badge.svg\" alt=\"Open In Colab\"/></a>"
      ]
    },
    {
      "cell_type": "markdown",
      "source": [
        "#### Loss function/Derivation of loss function with respect to weights\n",
        "#### this is for n dimensional and not for simple regression which can be done lot easier\n",
        "\n",
        "### Loss function = $ \\sum (y-\\hat y)^2 $ --> Simple ... from this we derived\n",
        "### Loss function in vector form  = $ (XW-Y)^T(XW-Y)$\n",
        "### Loss function with regularization = $ (XW-Y)^T(XW-Y) + λ||W||^2$\n",
        "### Now finding derivative with respect to W minimizing Loss function\n",
        "#### $ W = (X^TX + λI)^{-1}(X^TY)$ --> this is OLS way\n",
        "\n",
        "#### Derivative of Loss function with respect to weight:\n",
        "#### ---> $ X^TXW - Y^TX + λW$\n"
      ],
      "metadata": {
        "id": "G_DaJ2uyGnZS"
      }
    },
    {
      "cell_type": "code",
      "source": [
        "import numpy as np\n",
        "from sklearn.datasets import load_diabetes"
      ],
      "metadata": {
        "id": "WWGkMKOvLMXz"
      },
      "execution_count": 2,
      "outputs": []
    },
    {
      "cell_type": "code",
      "source": [
        "class Ridge_reg:\n",
        "\n",
        "  def __init__(self,lr,epochs,alpha): ## here alpha is penalty term added as regularization\n",
        "    self.lr = lr\n",
        "    self.epochs = epochs\n",
        "    self.alpha = alpha\n",
        "    self.beta = None\n",
        "    self.intercept = None\n",
        "\n",
        "  def fit(self,X,y):\n",
        "    self.beta = np.ones(X.shape[1])\n",
        "    self.intercept = 0\n",
        "    weight = np.insert(self.beta,0,self.intercept)\n",
        "\n",
        "    X = np.insert(X,0,1,axis=1) #array/index/value/axis\n",
        "    #loss_list=[]\n",
        "    for i in range(self.epochs):\n",
        "      weight_der = np.dot(X.T,X).dot(weight) - np.dot(y.T,X) + self.alpha*weight ## derivative of loss func w.r.t weight\n",
        "      weight = weight - self.lr * (weight_der)\n",
        "      #loss = (np.dot(X,weight)-y).T * (np.dot(X,weight)-y) + self.alpha*(np.mod(weight))**2\n",
        "      #loss_list.append(loss)\n",
        "\n",
        "    self.beta = weight[1:]\n",
        "    self.intercept = weight[0]\n",
        "\n",
        "    return self.beta, self.intercept\n",
        "\n",
        "  def predict(self,X_t):\n",
        "    return np.dot(X_t,self.beta) + self.intercept\n"
      ],
      "metadata": {
        "id": "ASE9m0kIIOQJ"
      },
      "execution_count": 47,
      "outputs": []
    },
    {
      "cell_type": "code",
      "source": [
        "X, y = load_diabetes(return_X_y=True)"
      ],
      "metadata": {
        "id": "FTDchCGFLGZC"
      },
      "execution_count": 48,
      "outputs": []
    },
    {
      "cell_type": "code",
      "source": [
        "rr = Ridge_reg(lr=0.005,epochs=500,alpha=0.001)"
      ],
      "metadata": {
        "id": "8NnYE5tIWCkE"
      },
      "execution_count": 49,
      "outputs": []
    },
    {
      "cell_type": "code",
      "source": [
        "rr.fit(X,y)"
      ],
      "metadata": {
        "colab": {
          "base_uri": "https://localhost:8080/"
        },
        "id": "1LPPgTgUZg16",
        "outputId": "5025f898-27cb-483b-8436-b9d844f52787"
      },
      "execution_count": 50,
      "outputs": [
        {
          "output_type": "execute_result",
          "data": {
            "text/plain": [
              "(array([ 5.92308124e+25, -6.51528772e+25,  8.49111827e+27,  1.78626832e+27,\n",
              "         6.15376969e+26, -1.53045382e+27,  2.22747471e+26,  7.03277786e+26,\n",
              "        -3.46878324e+27, -4.40135708e+26]),\n",
              " -3.765358121509116e+43)"
            ]
          },
          "metadata": {},
          "execution_count": 50
        }
      ]
    },
    {
      "cell_type": "code",
      "source": [],
      "metadata": {
        "id": "H_tMGIF7RBVt"
      },
      "execution_count": null,
      "outputs": []
    }
  ]
}